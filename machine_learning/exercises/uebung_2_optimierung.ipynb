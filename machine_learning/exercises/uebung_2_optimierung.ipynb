{
 "cells": [
  {
   "cell_type": "markdown",
   "metadata": {
    "id": "NQurt3URwazE"
   },
   "source": [
    "## Grundlagen Maschineller Lernverfahren | INF20A | 2022\n",
    "\n",
    "**Datum: 28.10.2022**\n"
   ]
  },
  {
   "cell_type": "markdown",
   "metadata": {
    "id": "YIcCnQuMuSgi"
   },
   "source": [
    "# Optimierung\n"
   ]
  },
  {
   "cell_type": "code",
   "execution_count": null,
   "metadata": {
    "id": "2imhAmtPuSgj"
   },
   "outputs": [],
   "source": [
    "# Lade notwendige Bibliotheken\n",
    "\n",
    "import numpy as np\n",
    "import matplotlib.pyplot as plt\n",
    "import seaborn as sns"
   ]
  },
  {
   "cell_type": "code",
   "execution_count": null,
   "metadata": {},
   "outputs": [],
   "source": [
    "sns.set()"
   ]
  },
  {
   "cell_type": "code",
   "execution_count": null,
   "metadata": {
    "id": "c0iLZBAOzN0T"
   },
   "outputs": [],
   "source": [
    "# Pseudo Zufallszahlen\n",
    "\n",
    "np.random.seed(2020)"
   ]
  },
  {
   "cell_type": "markdown",
   "metadata": {
    "id": "crgf3_27uSgm"
   },
   "source": [
    "## Daten erstellen\n"
   ]
  },
  {
   "cell_type": "code",
   "execution_count": null,
   "metadata": {
    "id": "xE_YBc5RuSgm"
   },
   "outputs": [],
   "source": [
    "# Daten erstellen \n",
    "\n",
    "X = 2*np.random.rand(100,1)\n",
    "y = 4+3*X + np.random.rand(100,1)"
   ]
  },
  {
   "cell_type": "code",
   "execution_count": null,
   "metadata": {
    "id": "U0CrmIa6zdBw"
   },
   "outputs": [],
   "source": [
    "# Daten anzeigen\n",
    "plt.plot(X,y,'b.')\n",
    "plt.xlabel(\"x\")\n",
    "plt.ylabel(\"y\")\n",
    "plt.show()"
   ]
  },
  {
   "cell_type": "code",
   "execution_count": null,
   "metadata": {
    "id": "Kz20ecMTuSgs"
   },
   "outputs": [],
   "source": [
    "# Erstelle zwei x-Werte zum Testen\n",
    "\n",
    "X_unknown = np.array([[0],[2]])"
   ]
  },
  {
   "cell_type": "markdown",
   "metadata": {
    "id": "n4B_yUI0uSgu"
   },
   "source": [
    "## SGD Modell erstellen\n",
    "\n",
    "Ressourcen: https://scikit-learn.org/stable/modules/generated/sklearn.linear_model.SGDRegressor.html\n"
   ]
  },
  {
   "cell_type": "code",
   "execution_count": null,
   "metadata": {
    "id": "wejPEZamuSgu"
   },
   "outputs": [],
   "source": [
    "# Lade SGD Modell\n",
    "\n",
    "from sklearn.linear_model import SGDRegressor\n",
    "\n",
    "# Erstelle SGDRegressor Instanz\n",
    "sgd_reg = SGDRegressor() # Standardwerte! -> Verweis auf Dokumentation\n",
    "\n",
    "# Starte Training\n",
    "sgd_reg.fit(X,y.ravel())\n",
    "\n",
    "# Hinweis: Die Dimension des Arrays ist sehr oft kritisch und muss entsprechend angepasst werden.\n",
    "# Oft hilft hier die Numpy Funktion \"ravel\"  weiter: https://numpy.org/doc/stable/reference/generated/numpy.ravel.html\n",
    "\n",
    "# Erhalte Vorhersage\n",
    "y_pred = sgd_reg.predict(X_unknown)\n",
    "\n",
    "# Zeige Vorhersage\n",
    "print(y_pred)"
   ]
  },
  {
   "cell_type": "code",
   "execution_count": null,
   "metadata": {
    "id": "OZsjls9A6PEU"
   },
   "outputs": [],
   "source": [
    "# Analysiere LR Ergebnis -> w0 und w1\n",
    "\n",
    "b = sgd_reg.intercept_ # w0\n",
    "w = sgd_reg.coef_ # w1\n",
    "\n",
    "print(b,w)"
   ]
  },
  {
   "cell_type": "markdown",
   "metadata": {
    "id": "qUAjFhGlfKI4"
   },
   "source": [
    "Erinnerung (Geradengleichung):\n",
    "\n",
    "$h_w(x) = b + m*x = w_0 + w_1*x_1$\n"
   ]
  },
  {
   "cell_type": "markdown",
   "metadata": {
    "id": "XtymDzXW9-IL"
   },
   "source": [
    "# Vergleich mit Lin Reg\n",
    "\n",
    "Ressource: https://scikit-learn.org/stable/modules/generated/sklearn.linear_model.LinearRegression.html\n"
   ]
  },
  {
   "cell_type": "code",
   "execution_count": null,
   "metadata": {
    "id": "CrKWwpAN9kDF"
   },
   "outputs": [],
   "source": [
    "# Lade LinReg Modell\n",
    "\n",
    "from sklearn.linear_model import LinearRegression\n",
    "\n",
    "lin_reg = LinearRegression() # Standardwerte! -> Verweis auf Dokumentation\n",
    "lin_reg.fit(X,y)\n",
    "\n",
    "y_pred_lr = lin_reg.predict(X_unknown)\n",
    "\n",
    "# Analysiere LR Ergebnis -> w0 und w1\n",
    "\n",
    "b_lr = lin_reg.intercept_ # w0\n",
    "w_lr = lin_reg.coef_ # w1\n",
    "\n",
    "print(b_lr,w_lr)"
   ]
  },
  {
   "cell_type": "markdown",
   "metadata": {
    "id": "w0Hxukdn-lVt"
   },
   "source": [
    "# Visualisierung\n"
   ]
  },
  {
   "cell_type": "code",
   "execution_count": null,
   "metadata": {
    "id": "SDs9G3TG6nIX"
   },
   "outputs": [],
   "source": [
    "# Für Anzeige der Geraden\n",
    "\n",
    "Xline = np.linspace(0,2,100)"
   ]
  },
  {
   "cell_type": "code",
   "execution_count": null,
   "metadata": {
    "id": "8w-Cvn4G6sZ2"
   },
   "outputs": [],
   "source": [
    "# Plot der Datenmenge und der Gerade und der beiden neuen X_unknown\n",
    "\n",
    "# Datenmenge\n",
    "plt.plot(X,y,'b.')\n",
    "\n",
    "# SGD\n",
    "plt.plot(X_unknown[0,0],y_pred[0],'r^')\n",
    "plt.plot(X_unknown[1,0],y_pred[1],'r^')\n",
    "\n",
    "plt.plot(Xline, w[0]*Xline + b,'r')\n",
    "\n",
    "# LR\n",
    "plt.plot(X_unknown[0,0],y_pred_lr[0],'m^')\n",
    "plt.plot(X_unknown[1,0],y_pred_lr[1],'m^')\n",
    "\n",
    "plt.plot(Xline, w_lr[0]*Xline + b_lr,'m')\n",
    "\n",
    "# Sonstiges\n",
    "plt.xlabel(\"x\")\n",
    "plt.ylabel(\"y\")\n",
    "\n",
    "plt.show()"
   ]
  },
  {
   "cell_type": "markdown",
   "metadata": {
    "id": "sBIht0uH--FM"
   },
   "source": [
    "# Hyperparameter der SGD ändern\n",
    "\n",
    "Es werden unterschiedlich parametrierte SGDRegressor Modelle erstellt.\n"
   ]
  },
  {
   "cell_type": "code",
   "execution_count": null,
   "metadata": {
    "id": "5ywTxwGiAHS-"
   },
   "outputs": [],
   "source": [
    "# Instanzen anlegen\n",
    "sgd_reg1 = SGDRegressor(loss=\"huber\") # Standard = \"squared_loss\"\n",
    "sgd_reg2 = SGDRegressor(max_iter=500) # Standard = 1000\n",
    "sgd_reg3 = SGDRegressor(learning_rate=\"constant\", eta0=0.000001) # Standard = \"invscaling\" / 0.01\n",
    "sgd_reg4 = SGDRegressor(learning_rate=\"constant\", eta0=0.05)\n",
    "sgd_reg5 = SGDRegressor(loss=\"huber\", max_iter=500) \n",
    "sgd_reg6 = SGDRegressor(learning_rate=\"constant\", eta0=0.05, max_iter=2000) \n",
    "\n",
    "# Instanzen zusammenfassen (für Schleife)\n",
    "sgd_list = [sgd_reg, sgd_reg1, sgd_reg2, sgd_reg3, sgd_reg4, sgd_reg5, sgd_reg6]\n",
    "colorlist = ['b','g','r','c','m','y','k']\n",
    "\n",
    "# Datenmenge\n",
    "plt.plot(X,y,'b.')\n",
    "\n",
    "c = -1 # Counter für Farben\n",
    "for sgd in sgd_list:\n",
    "  c += 1 # Liste startet mit 0\n",
    "  \n",
    "  # Training\n",
    "  sgd.fit(X,y.ravel())\n",
    " \n",
    "  # Vorhersage\n",
    "  y_pred_i = sgd.predict(X_unknown)\n",
    "\n",
    "  # Gewichte auslesen\n",
    "  b = sgd.intercept_ # w0\n",
    "  w = sgd.coef_ # w1\n",
    "\n",
    "  # Gebe relevante Informationen des aktuellen Modells aus\n",
    "  print(\"[SGD Hyperparams] %s\\t%d\\t%s (%f)\" % (sgd.loss, sgd.max_iter, sgd.learning_rate, sgd.eta0))\n",
    "  print(\"b=%f\\tw=%f\\ty_pred=%f\\n\\n\" % (b[0],w[0],y_pred_i[0]))\n",
    "\n",
    "  # Zeichne aktuelles Modell\n",
    "  plt.plot(X_unknown[0,0],y_pred_i[0],\"%s^\" % (colorlist[c]))\n",
    "  plt.plot(X_unknown[1,0],y_pred_i[1],\"%s^\" % (colorlist[c]))\n",
    "  plt.plot(Xline, w[0]*Xline + b,colorlist[c],label=\"Modell sgd_reg%d\" % (c))\n",
    "\n",
    "  plt.xlabel(\"x\")\n",
    "  plt.ylabel(\"y\")\n",
    "\n",
    "  plt.legend()\n",
    "\n",
    "# Zeige Plot mit allen Modellen\n",
    "plt.show()"
   ]
  },
  {
   "cell_type": "markdown",
   "metadata": {
    "id": "eh9luMXGehgB"
   },
   "source": [
    "# Selbststudium\n",
    "\n",
    "Im Folgenden wird kurz gezeigt wie die Eingangsdaten $\\vec x$ des Modells \"skaliert\" werden können.\n",
    "Für viele Modelle ist es zwingend notwendig die Eingangsdatensätze in einen gewissen Wertebereich zu transformieren: oft sollten die Eingangsdaten so aussehen, als ob diese \"normalverteilt\" sind.\n",
    "\n",
    "Im Folgenden wird die Anwendung des \"StandardScaler\" vorgestellt, der die Daten entsprechend \"verteilt\".\n",
    "\n",
    "Weitere Informationen dazu gibt es hier: https://scikit-learn.org/stable/modules/generated/sklearn.preprocessing.StandardScaler.html\n"
   ]
  },
  {
   "cell_type": "code",
   "execution_count": null,
   "metadata": {
    "id": "LqHQwC4AgCsY"
   },
   "outputs": [],
   "source": [
    "# Lade Bibliothek\n",
    "from sklearn.preprocessing import StandardScaler\n",
    "\n",
    "# Erstelle Instanz\n",
    "scaler = StandardScaler()\n",
    "\n",
    "# \"Lerne\" die Instanz mit den zur Verfügung stehenden Daten an (= Analysiere)\n",
    "# Hinweis: Es werden immer nur die Eingangsdaten $x$ skaliert, *nicht* die Zielvariable!\n",
    "scaler.fit(X)\n",
    "\n",
    "# Wo liegt der Erwartungswert der Daten X?\n",
    "print(\"[StandardScaler] Mean = %f \" % (scaler.mean_))\n",
    "\n",
    "# Führe die Skalierung durch 1) Trainingsdaten & 2) Anwendungsdaten (unbekannte Daten)\n",
    "X_scaled = scaler.transform(X)\n",
    "X_unknown_scaled = scaler.transform(X_unknown) # Transformation gemäß den Trainingsdaten\n"
   ]
  },
  {
   "cell_type": "markdown",
   "metadata": {
    "id": "nu_gCocbv5Eu"
   },
   "source": [
    "## Visualisiere\n"
   ]
  },
  {
   "cell_type": "code",
   "execution_count": null,
   "metadata": {
    "id": "SBsrMeHxj_NK"
   },
   "outputs": [],
   "source": [
    "# Zeichne die Datenpunkte\n",
    "\n",
    "# Datenmenge\n",
    "plt.plot(X,y,'b.') # ursprüngliche Datenmenge\n",
    "plt.plot(X_scaled,y,'r.') # transformierte Datenmenge\n",
    "\n",
    "plt.xlabel(\"x\")\n",
    "plt.ylabel(\"y\")\n",
    "\n",
    "plt.show()"
   ]
  },
  {
   "cell_type": "markdown",
   "metadata": {
    "id": "VB0ADIElv8c9"
   },
   "source": [
    "## Anwendung mit Modell\n"
   ]
  },
  {
   "cell_type": "code",
   "execution_count": null,
   "metadata": {
    "id": "m1b9mIFQkwm1"
   },
   "outputs": [],
   "source": [
    "# Erstelle eine neue Modellinstanz\n",
    "sgd_reg_scaling = SGDRegressor() # Standardwerte! -> Verweis auf Dokumentation\n",
    "\n",
    "# Starte Training\n",
    "sgd_reg_scaling.fit(X_scaled,y.ravel())\n",
    "\n",
    "# Erhalte Vorhersage\n",
    "y_pred_scaled = sgd_reg_scaling.predict(X_unknown_scaled)\n",
    "\n",
    "# Zeige Vorhersage\n",
    "print(y_pred_scaled)"
   ]
  },
  {
   "cell_type": "code",
   "execution_count": null,
   "metadata": {
    "id": "_QkCLkoqpAZG"
   },
   "outputs": [],
   "source": [
    "# Vgl. Vorhersage mit nicht transformierten Daten\n",
    "print(y_pred)"
   ]
  }
 ],
 "metadata": {
  "colab": {
   "collapsed_sections": [],
   "provenance": []
  },
  "kernelspec": {
   "display_name": "Python 3.10.7 ('machine-learning-WMNS_BmF-py3.10')",
   "language": "python",
   "name": "python3"
  },
  "language_info": {
   "codemirror_mode": {
    "name": "ipython",
    "version": 3
   },
   "file_extension": ".py",
   "mimetype": "text/x-python",
   "name": "python",
   "nbconvert_exporter": "python",
   "pygments_lexer": "ipython3",
   "version": "3.10.7"
  },
  "vscode": {
   "interpreter": {
    "hash": "a916ff23fea7a4f354e492f3ff3b4e358d0d0fecda9f999691d400a064490d90"
   }
  }
 },
 "nbformat": 4,
 "nbformat_minor": 0
}
