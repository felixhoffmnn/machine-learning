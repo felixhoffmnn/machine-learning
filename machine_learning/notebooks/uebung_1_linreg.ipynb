{
  "cells": [
    {
      "cell_type": "markdown",
      "metadata": {
        "id": "cb0xFc6r_tD7"
      },
      "source": [
        "## Grundlagen Maschineller Lernverfahren | INF20A | 2022\n",
        "\n",
        "**Datum: 28.10.2022**\n",
        "\n",
        "Ressourcen:\n",
        "\n",
        "- https://scikit-learn.org/stable/modules/generated/sklearn.linear_model.LinearRegression.html\n"
      ]
    },
    {
      "cell_type": "markdown",
      "metadata": {
        "id": "G7gp4tvTZPk_"
      },
      "source": [
        "# Linear Regression\n"
      ]
    },
    {
      "cell_type": "code",
      "execution_count": 101,
      "metadata": {
        "id": "fzoTAr5FZT7o"
      },
      "outputs": [],
      "source": [
        "# Lade notwendigen Bibliotheken\n",
        "\n",
        "import numpy as np\n",
        "import matplotlib.pyplot as plt\n",
        "import seaborn as sns"
      ]
    },
    {
      "cell_type": "code",
      "execution_count": 102,
      "metadata": {},
      "outputs": [],
      "source": [
        "sns.set()"
      ]
    },
    {
      "cell_type": "code",
      "execution_count": 103,
      "metadata": {
        "id": "Bz8O-6EkZZ4p"
      },
      "outputs": [],
      "source": [
        "#Setup Pseudo Zufallszahlen\n",
        "\n",
        "np.random.seed(2020)"
      ]
    },
    {
      "cell_type": "code",
      "execution_count": 104,
      "metadata": {
        "id": "abgj5ZTrZjU3"
      },
      "outputs": [],
      "source": [
        "# Daten erstellen\n",
        "\n",
        "X = 2*np.random.rand(100,1) # Zufallswerte für die X-Achse\n",
        "y = 4 + 3*X + np.random.rand(100,1) # Zufallswerte für die Y-Achse (folgt der Geradengleichung y = 3*X + 4)"
      ]
    },
    {
      "cell_type": "code",
      "execution_count": 105,
      "metadata": {
        "id": "bxv3JeKJZtvY"
      },
      "outputs": [
        {
          "data": {
            "text/plain": [
              "(100, 1)"
            ]
          },
          "execution_count": 105,
          "metadata": {},
          "output_type": "execute_result"
        }
      ],
      "source": [
        "# \"Format\" der erzeugten Daten anzeigen\n",
        "\n",
        "X.shape"
      ]
    },
    {
      "cell_type": "code",
      "execution_count": 106,
      "metadata": {
        "id": "DI3Mr_DnZxrJ"
      },
      "outputs": [
        {
          "data": {
            "image/png": "[encoded data removed]",
            "text/plain": [
              "<Figure size 640x480 with 1 Axes>"
            ]
          },
          "metadata": {},
          "output_type": "display_data"
        }
      ],
      "source": [
        "# Daten anzeigen\n",
        "plt.plot(X,y,'b.')\n",
        "plt.xlabel(\"x\")\n",
        "plt.ylabel(\"y\")\n",
        "plt.show()"
      ]
    },
    {
      "cell_type": "code",
      "execution_count": 107,
      "metadata": {
        "id": "IW5283gCaE2Z"
      },
      "outputs": [],
      "source": [
        "# Erstelle zwei (neue) X-Werte zum Testen\n",
        "\n",
        "X_unknown = np.array([[0],[2]])"
      ]
    },
    {
      "cell_type": "code",
      "execution_count": 108,
      "metadata": {
        "id": "Km_3F6Q_aWrn"
      },
      "outputs": [],
      "source": [
        "# Lade Bibliothek\n",
        "\n",
        "from sklearn.linear_model import LinearRegression"
      ]
    },
    {
      "cell_type": "code",
      "execution_count": 109,
      "metadata": {
        "id": "eg8Belrtagp3"
      },
      "outputs": [
        {
          "data": {
            "text/html": [
              "<style>#sk-container-id-10 {color: black;background-color: white;}#sk-container-id-10 pre{padding: 0;}#sk-container-id-10 div.sk-toggleable {background-color: white;}#sk-container-id-10 label.sk-toggleable__label {cursor: pointer;display: block;width: 100%;margin-bottom: 0;padding: 0.3em;box-sizing: border-box;text-align: center;}#sk-container-id-10 label.sk-toggleable__label-arrow:before {content: \"▸\";float: left;margin-right: 0.25em;color: #696969;}#sk-container-id-10 label.sk-toggleable__label-arrow:hover:before {color: black;}#sk-container-id-10 div.sk-estimator:hover label.sk-toggleable__label-arrow:before {color: black;}#sk-container-id-10 div.sk-toggleable__content {max-height: 0;max-width: 0;overflow: hidden;text-align: left;background-color: #f0f8ff;}#sk-container-id-10 div.sk-toggleable__content pre {margin: 0.2em;color: black;border-radius: 0.25em;background-color: #f0f8ff;}#sk-container-id-10 input.sk-toggleable__control:checked~div.sk-toggleable__content {max-height: 200px;max-width: 100%;overflow: auto;}#sk-container-id-10 input.sk-toggleable__control:checked~label.sk-toggleable__label-arrow:before {content: \"▾\";}#sk-container-id-10 div.sk-estimator input.sk-toggleable__control:checked~label.sk-toggleable__label {background-color: #d4ebff;}#sk-container-id-10 div.sk-label input.sk-toggleable__control:checked~label.sk-toggleable__label {background-color: #d4ebff;}#sk-container-id-10 input.sk-hidden--visually {border: 0;clip: rect(1px 1px 1px 1px);clip: rect(1px, 1px, 1px, 1px);height: 1px;margin: -1px;overflow: hidden;padding: 0;position: absolute;width: 1px;}#sk-container-id-10 div.sk-estimator {font-family: monospace;background-color: #f0f8ff;border: 1px dotted black;border-radius: 0.25em;box-sizing: border-box;margin-bottom: 0.5em;}#sk-container-id-10 div.sk-estimator:hover {background-color: #d4ebff;}#sk-container-id-10 div.sk-parallel-item::after {content: \"\";width: 100%;border-bottom: 1px solid gray;flex-grow: 1;}#sk-container-id-10 div.sk-label:hover label.sk-toggleable__label {background-color: #d4ebff;}#sk-container-id-10 div.sk-serial::before {content: \"\";position: absolute;border-left: 1px solid gray;box-sizing: border-box;top: 0;bottom: 0;left: 50%;z-index: 0;}#sk-container-id-10 div.sk-serial {display: flex;flex-direction: column;align-items: center;background-color: white;padding-right: 0.2em;padding-left: 0.2em;position: relative;}#sk-container-id-10 div.sk-item {position: relative;z-index: 1;}#sk-container-id-10 div.sk-parallel {display: flex;align-items: stretch;justify-content: center;background-color: white;position: relative;}#sk-container-id-10 div.sk-item::before, #sk-container-id-10 div.sk-parallel-item::before {content: \"\";position: absolute;border-left: 1px solid gray;box-sizing: border-box;top: 0;bottom: 0;left: 50%;z-index: -1;}#sk-container-id-10 div.sk-parallel-item {display: flex;flex-direction: column;z-index: 1;position: relative;background-color: white;}#sk-container-id-10 div.sk-parallel-item:first-child::after {align-self: flex-end;width: 50%;}#sk-container-id-10 div.sk-parallel-item:last-child::after {align-self: flex-start;width: 50%;}#sk-container-id-10 div.sk-parallel-item:only-child::after {width: 0;}#sk-container-id-10 div.sk-dashed-wrapped {border: 1px dashed gray;margin: 0 0.4em 0.5em 0.4em;box-sizing: border-box;padding-bottom: 0.4em;background-color: white;}#sk-container-id-10 div.sk-label label {font-family: monospace;font-weight: bold;display: inline-block;line-height: 1.2em;}#sk-container-id-10 div.sk-label-container {text-align: center;}#sk-container-id-10 div.sk-container {/* jupyter's `normalize.less` sets `[hidden] { display: none; }` but bootstrap.min.css set `[hidden] { display: none !important; }` so we also need the `!important` here to be able to override the default hidden behavior on the sphinx rendered scikit-learn.org. See: https://github.com/scikit-learn/scikit-learn/issues/21755 */display: inline-block !important;position: relative;}#sk-container-id-10 div.sk-text-repr-fallback {display: none;}</style><div id=\"sk-container-id-10\" class=\"sk-top-container\"><div class=\"sk-text-repr-fallback\"><pre>LinearRegression()</pre><b>In a Jupyter environment, please rerun this cell to show the HTML representation or trust the notebook. <br />On GitHub, the HTML representation is unable to render, please try loading this page with nbviewer.org.</b></div><div class=\"sk-container\" hidden><div class=\"sk-item\"><div class=\"sk-estimator sk-toggleable\"><input class=\"sk-toggleable__control sk-hidden--visually\" id=\"sk-estimator-id-10\" type=\"checkbox\" checked><label for=\"sk-estimator-id-10\" class=\"sk-toggleable__label sk-toggleable__label-arrow\">LinearRegression</label><div class=\"sk-toggleable__content\"><pre>LinearRegression()</pre></div></div></div></div></div>"
            ],
            "text/plain": [
              "LinearRegression()"
            ]
          },
          "execution_count": 109,
          "metadata": {},
          "output_type": "execute_result"
        }
      ],
      "source": [
        "# Erstelle LR Modell\n",
        "\n",
        "lin_reg = LinearRegression()\n",
        "lin_reg"
      ]
    },
    {
      "cell_type": "code",
      "execution_count": 110,
      "metadata": {
        "id": "WIPjYU1_arGm"
      },
      "outputs": [
        {
          "data": {
            "text/html": [
              "<style>#sk-container-id-11 {color: black;background-color: white;}#sk-container-id-11 pre{padding: 0;}#sk-container-id-11 div.sk-toggleable {background-color: white;}#sk-container-id-11 label.sk-toggleable__label {cursor: pointer;display: block;width: 100%;margin-bottom: 0;padding: 0.3em;box-sizing: border-box;text-align: center;}#sk-container-id-11 label.sk-toggleable__label-arrow:before {content: \"▸\";float: left;margin-right: 0.25em;color: #696969;}#sk-container-id-11 label.sk-toggleable__label-arrow:hover:before {color: black;}#sk-container-id-11 div.sk-estimator:hover label.sk-toggleable__label-arrow:before {color: black;}#sk-container-id-11 div.sk-toggleable__content {max-height: 0;max-width: 0;overflow: hidden;text-align: left;background-color: #f0f8ff;}#sk-container-id-11 div.sk-toggleable__content pre {margin: 0.2em;color: black;border-radius: 0.25em;background-color: #f0f8ff;}#sk-container-id-11 input.sk-toggleable__control:checked~div.sk-toggleable__content {max-height: 200px;max-width: 100%;overflow: auto;}#sk-container-id-11 input.sk-toggleable__control:checked~label.sk-toggleable__label-arrow:before {content: \"▾\";}#sk-container-id-11 div.sk-estimator input.sk-toggleable__control:checked~label.sk-toggleable__label {background-color: #d4ebff;}#sk-container-id-11 div.sk-label input.sk-toggleable__control:checked~label.sk-toggleable__label {background-color: #d4ebff;}#sk-container-id-11 input.sk-hidden--visually {border: 0;clip: rect(1px 1px 1px 1px);clip: rect(1px, 1px, 1px, 1px);height: 1px;margin: -1px;overflow: hidden;padding: 0;position: absolute;width: 1px;}#sk-container-id-11 div.sk-estimator {font-family: monospace;background-color: #f0f8ff;border: 1px dotted black;border-radius: 0.25em;box-sizing: border-box;margin-bottom: 0.5em;}#sk-container-id-11 div.sk-estimator:hover {background-color: #d4ebff;}#sk-container-id-11 div.sk-parallel-item::after {content: \"\";width: 100%;border-bottom: 1px solid gray;flex-grow: 1;}#sk-container-id-11 div.sk-label:hover label.sk-toggleable__label {background-color: #d4ebff;}#sk-container-id-11 div.sk-serial::before {content: \"\";position: absolute;border-left: 1px solid gray;box-sizing: border-box;top: 0;bottom: 0;left: 50%;z-index: 0;}#sk-container-id-11 div.sk-serial {display: flex;flex-direction: column;align-items: center;background-color: white;padding-right: 0.2em;padding-left: 0.2em;position: relative;}#sk-container-id-11 div.sk-item {position: relative;z-index: 1;}#sk-container-id-11 div.sk-parallel {display: flex;align-items: stretch;justify-content: center;background-color: white;position: relative;}#sk-container-id-11 div.sk-item::before, #sk-container-id-11 div.sk-parallel-item::before {content: \"\";position: absolute;border-left: 1px solid gray;box-sizing: border-box;top: 0;bottom: 0;left: 50%;z-index: -1;}#sk-container-id-11 div.sk-parallel-item {display: flex;flex-direction: column;z-index: 1;position: relative;background-color: white;}#sk-container-id-11 div.sk-parallel-item:first-child::after {align-self: flex-end;width: 50%;}#sk-container-id-11 div.sk-parallel-item:last-child::after {align-self: flex-start;width: 50%;}#sk-container-id-11 div.sk-parallel-item:only-child::after {width: 0;}#sk-container-id-11 div.sk-dashed-wrapped {border: 1px dashed gray;margin: 0 0.4em 0.5em 0.4em;box-sizing: border-box;padding-bottom: 0.4em;background-color: white;}#sk-container-id-11 div.sk-label label {font-family: monospace;font-weight: bold;display: inline-block;line-height: 1.2em;}#sk-container-id-11 div.sk-label-container {text-align: center;}#sk-container-id-11 div.sk-container {/* jupyter's `normalize.less` sets `[hidden] { display: none; }` but bootstrap.min.css set `[hidden] { display: none !important; }` so we also need the `!important` here to be able to override the default hidden behavior on the sphinx rendered scikit-learn.org. See: https://github.com/scikit-learn/scikit-learn/issues/21755 */display: inline-block !important;position: relative;}#sk-container-id-11 div.sk-text-repr-fallback {display: none;}</style><div id=\"sk-container-id-11\" class=\"sk-top-container\"><div class=\"sk-text-repr-fallback\"><pre>LinearRegression()</pre><b>In a Jupyter environment, please rerun this cell to show the HTML representation or trust the notebook. <br />On GitHub, the HTML representation is unable to render, please try loading this page with nbviewer.org.</b></div><div class=\"sk-container\" hidden><div class=\"sk-item\"><div class=\"sk-estimator sk-toggleable\"><input class=\"sk-toggleable__control sk-hidden--visually\" id=\"sk-estimator-id-11\" type=\"checkbox\" checked><label for=\"sk-estimator-id-11\" class=\"sk-toggleable__label sk-toggleable__label-arrow\">LinearRegression</label><div class=\"sk-toggleable__content\"><pre>LinearRegression()</pre></div></div></div></div></div>"
            ],
            "text/plain": [
              "LinearRegression()"
            ]
          },
          "execution_count": 110,
          "metadata": {},
          "output_type": "execute_result"
        }
      ],
      "source": [
        "# Trainiere das Modell\n",
        "\n",
        "lin_reg.fit(X,y)"
      ]
    },
    {
      "cell_type": "code",
      "execution_count": 111,
      "metadata": {
        "id": "oKkAsbFZax7W"
      },
      "outputs": [],
      "source": [
        "# Lasse das Modell eine Vorhersage zu den neuen X-Werten treffen\n",
        "\n",
        "y_pred = lin_reg.predict(X_unknown)"
      ]
    },
    {
      "cell_type": "code",
      "execution_count": 112,
      "metadata": {
        "id": "2FpUmYxra_7n"
      },
      "outputs": [
        {
          "data": {
            "text/plain": [
              "array([[ 4.44475522],\n",
              "       [10.55460064]])"
            ]
          },
          "execution_count": 112,
          "metadata": {},
          "output_type": "execute_result"
        }
      ],
      "source": [
        "# Zeige die Vorhersage an\n",
        "\n",
        "y_pred"
      ]
    },
    {
      "cell_type": "code",
      "execution_count": 113,
      "metadata": {
        "id": "sPCIOF4cbBB4"
      },
      "outputs": [
        {
          "name": "stdout",
          "output_type": "stream",
          "text": [
            "w0 = 4.444755\t/\t w1 = 3.054923\n"
          ]
        }
      ],
      "source": [
        "# Analyse des Modell\n",
        "\n",
        "b = lin_reg.intercept_ # w0\n",
        "w = lin_reg.coef_ # w1...n\n",
        "\n",
        "print(\"w0 = %f\\t/\\t w1 = %f\" % (b,w))"
      ]
    },
    {
      "cell_type": "markdown",
      "metadata": {
        "id": "HwVI3tjvAwFQ"
      },
      "source": [
        "Hier gilt also konkret:\n",
        "\n",
        "$h_w(x) = b + m*x = w0 + w_1*x_1 \\approx 4.56 + 2.9*x$\n",
        "\n",
        "(Beachte: Daten wurden gemäß der Gleichung y = 4 + 3\\*x erstellt -> also nicht so schlecht approximiert)\n"
      ]
    },
    {
      "cell_type": "code",
      "execution_count": 114,
      "metadata": {
        "id": "WjNnN2HybP6n"
      },
      "outputs": [],
      "source": [
        "# Erstelle X Werte für das Zeichnen einer Geraden\n",
        "Xline = np.linspace(0,2,100)\n",
        "# print(Xline)"
      ]
    },
    {
      "cell_type": "code",
      "execution_count": 115,
      "metadata": {
        "id": "pseHj7VPbqc3"
      },
      "outputs": [
        {
          "data": {
            "image/png": "[encoded data removed]",
            "text/plain": [
              "<Figure size 640x480 with 1 Axes>"
            ]
          },
          "metadata": {},
          "output_type": "display_data"
        }
      ],
      "source": [
        "# Plot der Datenmenge, der Geraden und der beiden neuen X_unknown Werte\n",
        "plt.plot(X,y,'b.')\n",
        "plt.plot(X_unknown[0,0], y_pred[0,0],'r^')\n",
        "plt.plot(X_unknown[1,0], y_pred[1,0],'r^')\n",
        "plt.xlabel(\"x\")\n",
        "plt.ylabel(\"y\")\n",
        "plt.plot(Xline, w[0]*Xline + b,'g')\n",
        "\n",
        "plt.show()"
      ]
    },
    {
      "cell_type": "markdown",
      "metadata": {
        "id": "Tfq-ifRscpAX"
      },
      "source": [
        "## Polynomial Regression\n"
      ]
    },
    {
      "cell_type": "code",
      "execution_count": 116,
      "metadata": {
        "id": "VsYObR8-crjo"
      },
      "outputs": [],
      "source": [
        "# Setup\n",
        "\n",
        "m = 100 # Anzahl Datenpunkte\n",
        "X = 6*np.random.rand(m,1)-3\n",
        "y = 0.5 * X**2 + X + 2 + np.random.randn(m,1) # Polynom vom Grad 2"
      ]
    },
    {
      "cell_type": "markdown",
      "metadata": {
        "id": "yK632dOjCOrY"
      },
      "source": [
        "Die Daten werden also gemäß der folgenden Gleichung erzeugt:\n",
        "\n",
        "$y= 0.5*X^2 + X + 2$\n"
      ]
    },
    {
      "cell_type": "code",
      "execution_count": 117,
      "metadata": {
        "id": "4nUlf_D2c85l"
      },
      "outputs": [
        {
          "data": {
            "image/png": "[encoded data removed]",
            "text/plain": [
              "<Figure size 640x480 with 1 Axes>"
            ]
          },
          "metadata": {},
          "output_type": "display_data"
        }
      ],
      "source": [
        "# Daten darstellen\n",
        "plt.plot(X,y,'b.')\n",
        "plt.xlabel(\"x\")\n",
        "plt.ylabel(\"y\")\n",
        "plt.show()"
      ]
    },
    {
      "cell_type": "code",
      "execution_count": 118,
      "metadata": {
        "id": "WdKzrdszdFgG"
      },
      "outputs": [
        {
          "name": "stdout",
          "output_type": "stream",
          "text": [
            "w0 = 3.215360\t/\t w1 = 0.852957\n"
          ]
        }
      ],
      "source": [
        "# Versuche die dargestellten Daten mit einer \"simplen\" Geraden anzugleichen\n",
        "\n",
        "from sklearn.linear_model import LinearRegression\n",
        "\n",
        "lin_reg = LinearRegression()\n",
        "lin_reg.fit(X,y)\n",
        "\n",
        "b = lin_reg.intercept_ #w0\n",
        "w = lin_reg.coef_ #w1\n",
        "\n",
        "print(\"w0 = %f\\t/\\t w1 = %f\" % (b,w))\n",
        "\n",
        "# Sagt das Modell für die trainierten X Werte die richtigen Y Werte vorher?\n",
        "y_pred = lin_reg.predict(X)\n",
        "\n",
        "#print(y_pred)"
      ]
    },
    {
      "cell_type": "code",
      "execution_count": 119,
      "metadata": {
        "id": "d64gQBnIdqfV"
      },
      "outputs": [],
      "source": [
        "# X-Werte für die zu zeichnende Gerade\n",
        "Xline = np.linspace(-4,4,100)"
      ]
    },
    {
      "cell_type": "code",
      "execution_count": 120,
      "metadata": {
        "id": "uKLXYZmNd0tm"
      },
      "outputs": [
        {
          "data": {
            "image/png": "[encoded data removed]",
            "text/plain": [
              "<Figure size 640x480 with 1 Axes>"
            ]
          },
          "metadata": {},
          "output_type": "display_data"
        }
      ],
      "source": [
        "# Zeichne die Datenpunkte, die Vorhersage und die abgeleitete Gerade\n",
        "plt.plot(X,y,'b.')\n",
        "plt.plot(Xline, w[0]*Xline + b,'r')\n",
        "plt.plot(X,y_pred,'m-')\n",
        "\n",
        "plt.show()"
      ]
    },
    {
      "cell_type": "code",
      "execution_count": 121,
      "metadata": {
        "id": "VJH663z9eCiF"
      },
      "outputs": [
        {
          "data": {
            "text/plain": [
              "2.904476581466562"
            ]
          },
          "execution_count": 121,
          "metadata": {},
          "output_type": "execute_result"
        }
      ],
      "source": [
        "# Berechnen mittleren quad. Fehler (MSE)\n",
        "\n",
        "from sklearn.metrics import mean_squared_error\n",
        "\n",
        "# Rufe Funktion mit Zielvariable und vorhergesagten Werten auf\n",
        "mean_squared_error(y,y_pred)"
      ]
    },
    {
      "cell_type": "code",
      "execution_count": 122,
      "metadata": {
        "id": "t8LRlw7MeevF"
      },
      "outputs": [],
      "source": [
        "# Lade Bibliothek für polynomielle Feature\n",
        "\n",
        "from sklearn.preprocessing import PolynomialFeatures"
      ]
    },
    {
      "cell_type": "code",
      "execution_count": 123,
      "metadata": {
        "id": "hu2HLK3teuyH"
      },
      "outputs": [],
      "source": [
        "# Wende polynomielle Features auf X Werte an\n",
        "\n",
        "poly_features = PolynomialFeatures(degree=2, include_bias=False) # Hier: Polynom vom Grad 2\n",
        "X_poly = poly_features.fit_transform(X) # Erstellt neuen Vektor mit \"angepassten\" Werten"
      ]
    },
    {
      "cell_type": "markdown",
      "metadata": {
        "id": "bipj0ETKDs3X"
      },
      "source": [
        "Vorher:\n",
        "\n",
        "> $w_0 + w_1*x_1$\n",
        "\n",
        "Nach Anwendung der poly. Features:\n",
        "\n",
        "> $w_0 + w_1*x_1 + w_2*x_2$ mit $x_2 = x_1^2$\n"
      ]
    },
    {
      "cell_type": "code",
      "execution_count": 124,
      "metadata": {
        "id": "Gb4U0lMrfBxl"
      },
      "outputs": [
        {
          "name": "stdout",
          "output_type": "stream",
          "text": [
            "[[-2.18263208]\n",
            " [-2.48194858]\n",
            " [-1.3824693 ]\n",
            " [-1.98083528]\n",
            " [-0.85962253]\n",
            " [ 2.61074444]\n",
            " [ 0.51764938]\n",
            " [-1.62406311]\n",
            " [ 1.37348445]\n",
            " [ 1.25994503]\n",
            " [-2.05684375]\n",
            " [ 1.25852233]\n",
            " [ 0.91656972]\n",
            " [-0.19116576]\n",
            " [ 1.18094524]\n",
            " [-0.49702245]\n",
            " [-1.72992201]\n",
            " [-1.38011607]\n",
            " [-0.24533259]\n",
            " [ 0.74665516]\n",
            " [ 2.21551641]\n",
            " [ 1.85179246]\n",
            " [ 2.20169661]\n",
            " [ 0.37244951]\n",
            " [ 0.28519745]\n",
            " [-1.16810139]\n",
            " [-1.65386596]\n",
            " [-0.16820046]\n",
            " [ 1.9642038 ]\n",
            " [-2.1539149 ]\n",
            " [ 0.14739156]\n",
            " [ 0.573517  ]\n",
            " [ 2.05126227]\n",
            " [-0.84714938]\n",
            " [-0.24447928]\n",
            " [-1.23785499]\n",
            " [ 0.07273234]\n",
            " [-2.23257177]\n",
            " [-1.82545483]\n",
            " [ 0.43550415]\n",
            " [ 2.24916457]\n",
            " [ 2.05423346]\n",
            " [-2.59313938]\n",
            " [-1.13883234]\n",
            " [ 1.36539178]\n",
            " [ 2.36775901]\n",
            " [ 1.88018153]\n",
            " [ 1.02715426]\n",
            " [ 0.33933918]\n",
            " [ 0.68402408]\n",
            " [ 1.3822021 ]\n",
            " [-2.42536611]\n",
            " [-0.70811671]\n",
            " [-0.35851089]\n",
            " [ 0.81287119]\n",
            " [-1.8686618 ]\n",
            " [ 1.35847829]\n",
            " [-2.42155525]\n",
            " [ 2.00363716]\n",
            " [ 1.65379979]\n",
            " [-1.71180393]\n",
            " [ 2.98997106]\n",
            " [-1.69724424]\n",
            " [ 2.22752845]\n",
            " [-2.39455259]\n",
            " [-2.52596478]\n",
            " [ 1.15348229]\n",
            " [-2.40403666]\n",
            " [ 1.34482994]\n",
            " [-2.4094627 ]\n",
            " [-0.56182239]\n",
            " [-0.24812027]\n",
            " [ 2.52021578]\n",
            " [-0.08509241]\n",
            " [-2.1130318 ]\n",
            " [-2.89561224]\n",
            " [-2.14403024]\n",
            " [ 0.57794516]\n",
            " [-2.8571247 ]\n",
            " [ 0.60412471]\n",
            " [ 1.36573915]\n",
            " [-1.22083821]\n",
            " [-0.89533495]\n",
            " [-0.68569966]\n",
            " [ 0.07106542]\n",
            " [-0.7106072 ]\n",
            " [ 0.21856981]\n",
            " [-0.67394516]\n",
            " [-1.76590994]\n",
            " [-0.45095704]\n",
            " [-2.99204015]\n",
            " [-0.68498147]\n",
            " [-0.88353616]\n",
            " [ 2.1668212 ]\n",
            " [ 0.54213271]\n",
            " [-2.56423534]\n",
            " [ 0.11793861]\n",
            " [-0.56695152]\n",
            " [-2.68647512]\n",
            " [ 1.38705502]]\n",
            "[[-2.18263208e+00  4.76388279e+00]\n",
            " [-2.48194858e+00  6.16006875e+00]\n",
            " [-1.38246930e+00  1.91122136e+00]\n",
            " [-1.98083528e+00  3.92370839e+00]\n",
            " [-8.59622531e-01  7.38950896e-01]\n",
            " [ 2.61074444e+00  6.81598652e+00]\n",
            " [ 5.17649381e-01  2.67960882e-01]\n",
            " [-1.62406311e+00  2.63758098e+00]\n",
            " [ 1.37348445e+00  1.88645954e+00]\n",
            " [ 1.25994503e+00  1.58746147e+00]\n",
            " [-2.05684375e+00  4.23060622e+00]\n",
            " [ 1.25852233e+00  1.58387846e+00]\n",
            " [ 9.16569722e-01  8.40100055e-01]\n",
            " [-1.91165755e-01  3.65443460e-02]\n",
            " [ 1.18094524e+00  1.39463166e+00]\n",
            " [-4.97022452e-01  2.47031318e-01]\n",
            " [-1.72992201e+00  2.99263015e+00]\n",
            " [-1.38011607e+00  1.90472037e+00]\n",
            " [-2.45332594e-01  6.01880817e-02]\n",
            " [ 7.46655160e-01  5.57493928e-01]\n",
            " [ 2.21551641e+00  4.90851298e+00]\n",
            " [ 1.85179246e+00  3.42913531e+00]\n",
            " [ 2.20169661e+00  4.84746798e+00]\n",
            " [ 3.72449510e-01  1.38718637e-01]\n",
            " [ 2.85197454e-01  8.13375880e-02]\n",
            " [-1.16810139e+00  1.36446086e+00]\n",
            " [-1.65386596e+00  2.73527260e+00]\n",
            " [-1.68200463e-01  2.82913957e-02]\n",
            " [ 1.96420380e+00  3.85809659e+00]\n",
            " [-2.15391490e+00  4.63934941e+00]\n",
            " [ 1.47391560e-01  2.17242720e-02]\n",
            " [ 5.73517001e-01  3.28921751e-01]\n",
            " [ 2.05126227e+00  4.20767690e+00]\n",
            " [-8.47149376e-01  7.17662065e-01]\n",
            " [-2.44479280e-01  5.97701184e-02]\n",
            " [-1.23785499e+00  1.53228497e+00]\n",
            " [ 7.27323433e-02  5.28999376e-03]\n",
            " [-2.23257177e+00  4.98437669e+00]\n",
            " [-1.82545483e+00  3.33228534e+00]\n",
            " [ 4.35504151e-01  1.89663865e-01]\n",
            " [ 2.24916457e+00  5.05874125e+00]\n",
            " [ 2.05423346e+00  4.21987511e+00]\n",
            " [-2.59313938e+00  6.72437187e+00]\n",
            " [-1.13883234e+00  1.29693910e+00]\n",
            " [ 1.36539178e+00  1.86429470e+00]\n",
            " [ 2.36775901e+00  5.60628275e+00]\n",
            " [ 1.88018153e+00  3.53508258e+00]\n",
            " [ 1.02715426e+00  1.05504588e+00]\n",
            " [ 3.39339176e-01  1.15151077e-01]\n",
            " [ 6.84024078e-01  4.67888939e-01]\n",
            " [ 1.38220210e+00  1.91048266e+00]\n",
            " [-2.42536611e+00  5.88240078e+00]\n",
            " [-7.08116712e-01  5.01429278e-01]\n",
            " [-3.58510888e-01  1.28530057e-01]\n",
            " [ 8.12871188e-01  6.60759568e-01]\n",
            " [-1.86866180e+00  3.49189690e+00]\n",
            " [ 1.35847829e+00  1.84546325e+00]\n",
            " [-2.42155525e+00  5.86392985e+00]\n",
            " [ 2.00363716e+00  4.01456189e+00]\n",
            " [ 1.65379979e+00  2.73505373e+00]\n",
            " [-1.71180393e+00  2.93027269e+00]\n",
            " [ 2.98997106e+00  8.93992695e+00]\n",
            " [-1.69724424e+00  2.88063800e+00]\n",
            " [ 2.22752845e+00  4.96188299e+00]\n",
            " [-2.39455259e+00  5.73388209e+00]\n",
            " [-2.52596478e+00  6.38049806e+00]\n",
            " [ 1.15348229e+00  1.33052140e+00]\n",
            " [-2.40403666e+00  5.77939228e+00]\n",
            " [ 1.34482994e+00  1.80856756e+00]\n",
            " [-2.40946270e+00  5.80551050e+00]\n",
            " [-5.61822387e-01  3.15644395e-01]\n",
            " [-2.48120268e-01  6.15636675e-02]\n",
            " [ 2.52021578e+00  6.35148756e+00]\n",
            " [-8.50924071e-02  7.24071774e-03]\n",
            " [-2.11303180e+00  4.46490337e+00]\n",
            " [-2.89561224e+00  8.38457027e+00]\n",
            " [-2.14403024e+00  4.59686568e+00]\n",
            " [ 5.77945161e-01  3.34020609e-01]\n",
            " [-2.85712470e+00  8.16316156e+00]\n",
            " [ 6.04124711e-01  3.64966666e-01]\n",
            " [ 1.36573915e+00  1.86524343e+00]\n",
            " [-1.22083821e+00  1.49044593e+00]\n",
            " [-8.95334950e-01  8.01624673e-01]\n",
            " [-6.85699656e-01  4.70184019e-01]\n",
            " [ 7.10654236e-02  5.05029444e-03]\n",
            " [-7.10607200e-01  5.04962593e-01]\n",
            " [ 2.18569806e-01  4.77727602e-02]\n",
            " [-6.73945157e-01  4.54202074e-01]\n",
            " [-1.76590994e+00  3.11843790e+00]\n",
            " [-4.50957036e-01  2.03362249e-01]\n",
            " [-2.99204015e+00  8.95230427e+00]\n",
            " [-6.84981473e-01  4.69199618e-01]\n",
            " [-8.83536164e-01  7.80636154e-01]\n",
            " [ 2.16682120e+00  4.69511410e+00]\n",
            " [ 5.42132707e-01  2.93907872e-01]\n",
            " [-2.56423534e+00  6.57530286e+00]\n",
            " [ 1.17938610e-01  1.39095157e-02]\n",
            " [-5.66951521e-01  3.21434027e-01]\n",
            " [-2.68647512e+00  7.21714855e+00]\n",
            " [ 1.38705502e+00  1.92392163e+00]]\n"
          ]
        }
      ],
      "source": [
        "# Vergleich der X-Werte ( = Feature)\n",
        "print(X)\n",
        "print(X_poly)"
      ]
    },
    {
      "cell_type": "code",
      "execution_count": 125,
      "metadata": {
        "cellView": "both",
        "id": "kx_NUoxTfDaU"
      },
      "outputs": [
        {
          "data": {
            "text/html": [
              "<style>#sk-container-id-12 {color: black;background-color: white;}#sk-container-id-12 pre{padding: 0;}#sk-container-id-12 div.sk-toggleable {background-color: white;}#sk-container-id-12 label.sk-toggleable__label {cursor: pointer;display: block;width: 100%;margin-bottom: 0;padding: 0.3em;box-sizing: border-box;text-align: center;}#sk-container-id-12 label.sk-toggleable__label-arrow:before {content: \"▸\";float: left;margin-right: 0.25em;color: #696969;}#sk-container-id-12 label.sk-toggleable__label-arrow:hover:before {color: black;}#sk-container-id-12 div.sk-estimator:hover label.sk-toggleable__label-arrow:before {color: black;}#sk-container-id-12 div.sk-toggleable__content {max-height: 0;max-width: 0;overflow: hidden;text-align: left;background-color: #f0f8ff;}#sk-container-id-12 div.sk-toggleable__content pre {margin: 0.2em;color: black;border-radius: 0.25em;background-color: #f0f8ff;}#sk-container-id-12 input.sk-toggleable__control:checked~div.sk-toggleable__content {max-height: 200px;max-width: 100%;overflow: auto;}#sk-container-id-12 input.sk-toggleable__control:checked~label.sk-toggleable__label-arrow:before {content: \"▾\";}#sk-container-id-12 div.sk-estimator input.sk-toggleable__control:checked~label.sk-toggleable__label {background-color: #d4ebff;}#sk-container-id-12 div.sk-label input.sk-toggleable__control:checked~label.sk-toggleable__label {background-color: #d4ebff;}#sk-container-id-12 input.sk-hidden--visually {border: 0;clip: rect(1px 1px 1px 1px);clip: rect(1px, 1px, 1px, 1px);height: 1px;margin: -1px;overflow: hidden;padding: 0;position: absolute;width: 1px;}#sk-container-id-12 div.sk-estimator {font-family: monospace;background-color: #f0f8ff;border: 1px dotted black;border-radius: 0.25em;box-sizing: border-box;margin-bottom: 0.5em;}#sk-container-id-12 div.sk-estimator:hover {background-color: #d4ebff;}#sk-container-id-12 div.sk-parallel-item::after {content: \"\";width: 100%;border-bottom: 1px solid gray;flex-grow: 1;}#sk-container-id-12 div.sk-label:hover label.sk-toggleable__label {background-color: #d4ebff;}#sk-container-id-12 div.sk-serial::before {content: \"\";position: absolute;border-left: 1px solid gray;box-sizing: border-box;top: 0;bottom: 0;left: 50%;z-index: 0;}#sk-container-id-12 div.sk-serial {display: flex;flex-direction: column;align-items: center;background-color: white;padding-right: 0.2em;padding-left: 0.2em;position: relative;}#sk-container-id-12 div.sk-item {position: relative;z-index: 1;}#sk-container-id-12 div.sk-parallel {display: flex;align-items: stretch;justify-content: center;background-color: white;position: relative;}#sk-container-id-12 div.sk-item::before, #sk-container-id-12 div.sk-parallel-item::before {content: \"\";position: absolute;border-left: 1px solid gray;box-sizing: border-box;top: 0;bottom: 0;left: 50%;z-index: -1;}#sk-container-id-12 div.sk-parallel-item {display: flex;flex-direction: column;z-index: 1;position: relative;background-color: white;}#sk-container-id-12 div.sk-parallel-item:first-child::after {align-self: flex-end;width: 50%;}#sk-container-id-12 div.sk-parallel-item:last-child::after {align-self: flex-start;width: 50%;}#sk-container-id-12 div.sk-parallel-item:only-child::after {width: 0;}#sk-container-id-12 div.sk-dashed-wrapped {border: 1px dashed gray;margin: 0 0.4em 0.5em 0.4em;box-sizing: border-box;padding-bottom: 0.4em;background-color: white;}#sk-container-id-12 div.sk-label label {font-family: monospace;font-weight: bold;display: inline-block;line-height: 1.2em;}#sk-container-id-12 div.sk-label-container {text-align: center;}#sk-container-id-12 div.sk-container {/* jupyter's `normalize.less` sets `[hidden] { display: none; }` but bootstrap.min.css set `[hidden] { display: none !important; }` so we also need the `!important` here to be able to override the default hidden behavior on the sphinx rendered scikit-learn.org. See: https://github.com/scikit-learn/scikit-learn/issues/21755 */display: inline-block !important;position: relative;}#sk-container-id-12 div.sk-text-repr-fallback {display: none;}</style><div id=\"sk-container-id-12\" class=\"sk-top-container\"><div class=\"sk-text-repr-fallback\"><pre>LinearRegression()</pre><b>In a Jupyter environment, please rerun this cell to show the HTML representation or trust the notebook. <br />On GitHub, the HTML representation is unable to render, please try loading this page with nbviewer.org.</b></div><div class=\"sk-container\" hidden><div class=\"sk-item\"><div class=\"sk-estimator sk-toggleable\"><input class=\"sk-toggleable__control sk-hidden--visually\" id=\"sk-estimator-id-12\" type=\"checkbox\" checked><label for=\"sk-estimator-id-12\" class=\"sk-toggleable__label sk-toggleable__label-arrow\">LinearRegression</label><div class=\"sk-toggleable__content\"><pre>LinearRegression()</pre></div></div></div></div></div>"
            ],
            "text/plain": [
              "LinearRegression()"
            ]
          },
          "execution_count": 125,
          "metadata": {},
          "output_type": "execute_result"
        }
      ],
      "source": [
        "# Erstelle ein neue Modell und trainiere es mit den angepassten Werten\n",
        "lin_reg_poly = LinearRegression()\n",
        "lin_reg_poly.fit(X_poly,y) # y bleibt gleich!"
      ]
    },
    {
      "cell_type": "code",
      "execution_count": 126,
      "metadata": {
        "id": "155kFVjYgjnc"
      },
      "outputs": [
        {
          "name": "stdout",
          "output_type": "stream",
          "text": [
            "w0 = 1.764885\t/\t w = [1.05229338 0.56876022]\n"
          ]
        }
      ],
      "source": [
        "# Zeige gelernte Parameter\n",
        "\n",
        "b = lin_reg_poly.intercept_\n",
        "w = lin_reg_poly.coef_\n",
        "\n",
        "print(\"w0 = %f\\t/\\t w = %s\"  % (b,w[0]))"
      ]
    },
    {
      "cell_type": "code",
      "execution_count": 127,
      "metadata": {
        "id": "94UBNHSYgqLG"
      },
      "outputs": [],
      "source": [
        "# Prüfe Vorhersage\n",
        "\n",
        "y_pred_poly = lin_reg_poly.predict(X_poly)"
      ]
    },
    {
      "cell_type": "code",
      "execution_count": 128,
      "metadata": {
        "id": "TDvoZDhMgzRE"
      },
      "outputs": [
        {
          "data": {
            "image/png": "[encoded data removed]",
            "text/plain": [
              "<Figure size 640x480 with 1 Axes>"
            ]
          },
          "metadata": {},
          "output_type": "display_data"
        }
      ],
      "source": [
        "# Zeichne\n",
        "plt.plot(X,y,'b.')\n",
        "plt.plot(X,y_pred_poly,'r.')\n",
        "plt.show()"
      ]
    },
    {
      "cell_type": "code",
      "execution_count": 129,
      "metadata": {
        "id": "BA9Oxxzwg-MU"
      },
      "outputs": [
        {
          "data": {
            "text/plain": [
              "1.0536969533647937"
            ]
          },
          "execution_count": 129,
          "metadata": {},
          "output_type": "execute_result"
        }
      ],
      "source": [
        "# Berechnen mittleren quad. Fehler (MSE)\n",
        "mean_squared_error(y, y_pred_poly)"
      ]
    },
    {
      "cell_type": "markdown",
      "metadata": {
        "id": "XPB_svWiFJ-u"
      },
      "source": [
        "# Selbststudium\n",
        "\n",
        "Im folgenden wird noch kurz gezeigt wie man \"Pipelines\" nutzt.\n",
        "Damit lassen sich mehrere Schritte (z.B. PolynomialFeatures und die anschließende Lineare Regression) einfach zusammenfassen.\n",
        "\n",
        "Mehr Infos dazu gibt es hier: https://scikit-learn.org/stable/modules/generated/sklearn.pipeline.make_pipeline.html\n"
      ]
    },
    {
      "cell_type": "code",
      "execution_count": 130,
      "metadata": {
        "id": "GEflKKEwhFu0"
      },
      "outputs": [
        {
          "data": {
            "image/png": "[encoded data removed]",
            "text/plain": [
              "<Figure size 640x480 with 1 Axes>"
            ]
          },
          "metadata": {},
          "output_type": "display_data"
        },
        {
          "name": "stdout",
          "output_type": "stream",
          "text": [
            "1.0536969533647935\n"
          ]
        }
      ],
      "source": [
        "# Lade Bibliothek\n",
        "from sklearn.pipeline import make_pipeline\n",
        "\n",
        "# Erstelle eine Pipeline namens \"model\"\n",
        "#     Teil 1: PolynomialFeatures\n",
        "#     Teil 2: Lineare Regression\n",
        "model = make_pipeline(PolynomialFeatures(degree=2), LinearRegression())\n",
        "\n",
        "# Nun lassen sich die ehemals zwei Schritte einfach in einem Schritt zusammenfassen\n",
        "model.fit(X, y)\n",
        "\n",
        "# Vorhersage\n",
        "y_pred = model.predict(X)\n",
        "\n",
        "# Zeichnen\n",
        "plt.plot(X,y,'b.')\n",
        "plt.plot(X, y_pred,'r.')\n",
        "plt.show()\n",
        "\n",
        "# MSE berechnen\n",
        "print(mean_squared_error(y, y_pred))\n",
        "\n"
      ]
    },
    {
      "cell_type": "markdown",
      "metadata": {
        "id": "xPQBP0NzGiH_"
      },
      "source": [
        "Vergleiche die Ergebnisse verschiedener Polynome\n"
      ]
    },
    {
      "cell_type": "code",
      "execution_count": 131,
      "metadata": {
        "id": "lSeTujyKGqki"
      },
      "outputs": [
        {
          "name": "stdout",
          "output_type": "stream",
          "text": [
            "Degree 1:\t MSE = 2.9045\n",
            "Degree 2:\t MSE = 1.0537\n",
            "Degree 3:\t MSE = 1.0381\n"
          ]
        },
        {
          "name": "stderr",
          "output_type": "stream",
          "text": [
            "/tmp/ipykernel_41906/3799084357.py:8: UserWarning: color is redundantly defined by the 'color' keyword argument and the fmt string \"b.\" (-> color='b'). The keyword argument will take precedence.\n",
            "  plt.plot(X, y_pred,'b.', color=plt_color[d-1])\n",
            "/tmp/ipykernel_41906/3799084357.py:8: UserWarning: color is redundantly defined by the 'color' keyword argument and the fmt string \"b.\" (-> color='b'). The keyword argument will take precedence.\n",
            "  plt.plot(X, y_pred,'b.', color=plt_color[d-1])\n",
            "/tmp/ipykernel_41906/3799084357.py:8: UserWarning: color is redundantly defined by the 'color' keyword argument and the fmt string \"b.\" (-> color='b'). The keyword argument will take precedence.\n",
            "  plt.plot(X, y_pred,'b.', color=plt_color[d-1])\n"
          ]
        },
        {
          "data": {
            "image/png": "[encoded data removed]",
            "text/plain": [
              "<Figure size 640x480 with 1 Axes>"
            ]
          },
          "metadata": {},
          "output_type": "display_data"
        }
      ],
      "source": [
        "plt_color = ['m','g','r']\n",
        "\n",
        "for d in range(3): # Achtung: startet mit 0 !\n",
        "    d += 1\n",
        "    model = make_pipeline(PolynomialFeatures(degree=d), LinearRegression())\n",
        "    model.fit(X, y)\n",
        "    y_pred = model.predict(X)\n",
        "    plt.plot(X, y_pred,'b.', color=plt_color[d-1])\n",
        "    print(\"Degree %d:\\t MSE = %2.4f\" % (d, mean_squared_error(y, y_pred)))\n",
        "\n",
        "plt.show()"
      ]
    }
  ],
  "metadata": {
    "colab": {
      "collapsed_sections": [],
      "provenance": []
    },
    "kernelspec": {
      "display_name": "Python 3.10.7 ('machine-learning-WMNS_BmF-py3.10')",
      "language": "python",
      "name": "python3"
    },
    "language_info": {
      "codemirror_mode": {
        "name": "ipython",
        "version": 3
      },
      "file_extension": ".py",
      "mimetype": "text/x-python",
      "name": "python",
      "nbconvert_exporter": "python",
      "pygments_lexer": "ipython3",
      "version": "3.10.7"
    },
    "vscode": {
      "interpreter": {
        "hash": "a916ff23fea7a4f354e492f3ff3b4e358d0d0fecda9f999691d400a064490d90"
      }
    }
  },
  "nbformat": 4,
  "nbformat_minor": 0
}
