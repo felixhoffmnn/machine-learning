{
 "cells": [
  {
   "cell_type": "code",
   "execution_count": null,
   "metadata": {},
   "outputs": [],
   "source": [
    "import numpy as np\n",
    "import seaborn as sns\n",
    "import pandas as pd\n",
    "from pathlib import Path"
   ]
  },
  {
   "cell_type": "code",
   "execution_count": null,
   "metadata": {},
   "outputs": [],
   "source": [
    "# TODO: Change to full\n",
    "data_path = Path('../../data/bank/bank.csv')"
   ]
  },
  {
   "cell_type": "code",
   "execution_count": null,
   "metadata": {},
   "outputs": [],
   "source": [
    "df = pd.read_csv(data_path, sep=';')"
   ]
  },
  {
   "cell_type": "code",
   "execution_count": null,
   "metadata": {},
   "outputs": [],
   "source": [
    "df.head()"
   ]
  },
  {
   "cell_type": "code",
   "execution_count": null,
   "metadata": {},
   "outputs": [],
   "source": [
    "df.describe()"
   ]
  },
  {
   "cell_type": "code",
   "execution_count": null,
   "metadata": {},
   "outputs": [],
   "source": [
    "df.info(memory_usage='deep')"
   ]
  },
  {
   "cell_type": "code",
   "execution_count": null,
   "metadata": {},
   "outputs": [],
   "source": [
    "df[\"default\"] = df[\"default\"].map({\"no\": 0, \"yes\": 1})\n",
    "df[\"housing\"] = df[\"housing\"].map({\"no\": 0, \"yes\": 1})\n",
    "df[\"loan\"] = df[\"loan\"].map({\"no\": 0, \"yes\": 1})\n",
    "df[\"y\"] = df[\"y\"].map({\"no\": 0, \"yes\": 1})"
   ]
  },
  {
   "cell_type": "code",
   "execution_count": null,
   "metadata": {},
   "outputs": [],
   "source": [
    "df_types = {\n",
    "    \"age\": np.int8,\n",
    "    \"job\": \"category\",\n",
    "    \"marital\": \"category\",\n",
    "    \"education\": \"category\",\n",
    "    \"default\": bool,\n",
    "    \"balance\": np.int32,\n",
    "    \"housing\": bool,\n",
    "    \"loan\": bool,\n",
    "    \"contact\": \"category\",\n",
    "    \"day\": np.int8,\n",
    "    \"month\": \"category\",\n",
    "    \"duration\": np.int16,\n",
    "    \"campaign\": np.int8,\n",
    "    \"pdays\": np.int16,\n",
    "    \"previous\": np.int8,\n",
    "    \"poutcome\": \"category\",\n",
    "    \"y\": bool\n",
    "}\n",
    "\n",
    "df = df.astype(df_types)"
   ]
  },
  {
   "cell_type": "code",
   "execution_count": null,
   "metadata": {},
   "outputs": [],
   "source": [
    "df.info(memory_usage='deep')"
   ]
  }
 ],
 "metadata": {
  "kernelspec": {
   "display_name": ".venv",
   "language": "python",
   "name": "python3"
  },
  "language_info": {
   "codemirror_mode": {
    "name": "ipython",
    "version": 3
   },
   "file_extension": ".py",
   "mimetype": "text/x-python",
   "name": "python",
   "nbconvert_exporter": "python",
   "pygments_lexer": "ipython3",
   "version": "3.8.15"
  },
  "vscode": {
   "interpreter": {
    "hash": "00155b37fbb991365d0ee05c40a31a80e0b75de72a8bd7547540e678c5c3c0a9"
   }
  }
 },
 "nbformat": 4,
 "nbformat_minor": 2
}
